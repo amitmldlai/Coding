{
  "nbformat": 4,
  "nbformat_minor": 0,
  "metadata": {
    "colab": {
      "provenance": [],
      "authorship_tag": "ABX9TyNUv2vaPea+2p3yJjbJgWkc",
      "include_colab_link": true
    },
    "kernelspec": {
      "name": "python3",
      "display_name": "Python 3"
    },
    "language_info": {
      "name": "python"
    }
  },
  "cells": [
    {
      "cell_type": "markdown",
      "metadata": {
        "id": "view-in-github",
        "colab_type": "text"
      },
      "source": [
        "<a href=\"https://colab.research.google.com/github/amitmldlai/Coding/blob/main/Untitled32.ipynb\" target=\"_parent\"><img src=\"https://colab.research.google.com/assets/colab-badge.svg\" alt=\"Open In Colab\"/></a>"
      ]
    },
    {
      "cell_type": "markdown",
      "source": [
        "Given a list of strictly positive integers, partition the list into 3 contiguous partitions which each sum up to the same value. If not possible, return null.\n",
        "\n",
        "For example, given the following list:\n",
        "\n",
        "`[3, 5, 8, 0, 8]`\n",
        "\n",
        "Return the following 3 partitions:\n",
        "\n",
        "```\n",
        "[[3, 5],\n",
        " [8, 0],\n",
        " [8]]\n",
        "```\n",
        "\n",
        "Which each add up to 8."
      ],
      "metadata": {
        "id": "rvqB9B-Cgtt-"
      }
    },
    {
      "cell_type": "markdown",
      "source": [
        "Solution:\n",
        "\n",
        "1. Since the sum of all the elements in each partition needs to be same value and we need to form 3 such partitions, it is necessary that the total sum of all elements in the input list should be divisible by 3, if it does not satisfy that constraint we can immediately return Null.\n",
        "\n",
        "2. Next, to actually find the partition bounds, we can iterate over the array with a temporary sum variable, keeping track of whenever it reaches sum(arr) / 3. When it does, we can set our first or second bound to the current index we're on.\n"
      ],
      "metadata": {
        "id": "dNy9qG67hCvP"
      }
    },
    {
      "cell_type": "code",
      "execution_count": 1,
      "metadata": {
        "id": "dR1Xi7zNfVNd"
      },
      "outputs": [],
      "source": [
        "def partition(arr):\n",
        "    if sum(arr) % 3 != 0:\n",
        "        return None\n",
        "\n",
        "    first_bound, second_bound = None, None\n",
        "    current_sum = 0\n",
        "    for i, num in enumerate(arr):\n",
        "        if current_sum == sum(arr) / 3:\n",
        "            current_sum = 0   #  set the current_sum to 0 for using it to find the next partition set\n",
        "            if first_bound is None:  \n",
        "                first_bound = i   #  set the first_bound to the index no. from where next partition needs to found\n",
        "            elif second_bound is None:\n",
        "                second_bound = i  #  set the second_bound to the index no. from where last partition needs to found\n",
        "        current_sum += num\n",
        "\n",
        "    if first_bound is None or second_bound is None:  #  if True, it shows partitions are not possible\n",
        "        return None\n",
        "\n",
        "    return [arr[:first_bound], arr[first_bound:second_bound], arr[second_bound:]]"
      ]
    },
    {
      "cell_type": "code",
      "source": [
        "partition([3, 5, 8, 0, 8])"
      ],
      "metadata": {
        "colab": {
          "base_uri": "https://localhost:8080/"
        },
        "id": "_voIk7IWnwr8",
        "outputId": "0481bde1-24f4-4e69-8488-ff7a3013fadb"
      },
      "execution_count": 2,
      "outputs": [
        {
          "output_type": "execute_result",
          "data": {
            "text/plain": [
              "[[3, 5], [8], [0, 8]]"
            ]
          },
          "metadata": {},
          "execution_count": 2
        }
      ]
    },
    {
      "cell_type": "code",
      "source": [
        "partition([3, 5, 8, 0])  # sum of all elements not divisible by 3"
      ],
      "metadata": {
        "id": "suRW_dVfn17J"
      },
      "execution_count": 8,
      "outputs": []
    },
    {
      "cell_type": "code",
      "source": [
        "partition([8, 0, 3, 8, 5])  #  3 contiguous partitions not possible "
      ],
      "metadata": {
        "id": "VNdqaGfroBPG"
      },
      "execution_count": 9,
      "outputs": []
    },
    {
      "cell_type": "code",
      "source": [
        "partition([2, 4, 2, 7, 0, 1, 2, 1, 0, 1, 3, 0, 1])"
      ],
      "metadata": {
        "colab": {
          "base_uri": "https://localhost:8080/"
        },
        "id": "9MLqF6oiopyn",
        "outputId": "32fc090d-db28-4b93-ef1e-f27d35f79243"
      },
      "execution_count": 7,
      "outputs": [
        {
          "output_type": "execute_result",
          "data": {
            "text/plain": [
              "[[2, 4, 2], [7, 0, 1], [2, 1, 0, 1, 3, 0, 1]]"
            ]
          },
          "metadata": {},
          "execution_count": 7
        }
      ]
    },
    {
      "cell_type": "markdown",
      "source": [
        "This runs in O(N) time, we loop over the array once and O(1) space as we just have a few temporary variables.\n",
        "\n",
        "If we need to form k such partitions instead of 3 partitions, then we will need O(K) space, to store the index of each partition starting position. "
      ],
      "metadata": {
        "id": "AjoM7TfPmXhD"
      }
    }
  ]
}