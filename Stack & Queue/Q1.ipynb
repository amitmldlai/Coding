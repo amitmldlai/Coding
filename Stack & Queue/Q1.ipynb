{
  "nbformat": 4,
  "nbformat_minor": 0,
  "metadata": {
    "colab": {
      "provenance": [],
      "collapsed_sections": [],
      "authorship_tag": "ABX9TyPI5/NTO11AHkE8cUPi5wgs",
      "include_colab_link": true
    },
    "kernelspec": {
      "name": "python3",
      "display_name": "Python 3"
    },
    "language_info": {
      "name": "python"
    }
  },
  "cells": [
    {
      "cell_type": "markdown",
      "metadata": {
        "id": "view-in-github",
        "colab_type": "text"
      },
      "source": [
        "<a href=\"https://colab.research.google.com/github/amitmldlai/Coding/blob/main/Q1.ipynb\" target=\"_parent\"><img src=\"https://colab.research.google.com/assets/colab-badge.svg\" alt=\"Open In Colab\"/></a>"
      ]
    },
    {
      "cell_type": "markdown",
      "source": [
        "Implement a queue using two stacks. Recall that a queue is a FIFO (first-in, first-out) data structure with the following methods: enqueue, which inserts an element into the queue, and dequeue, which removes it."
      ],
      "metadata": {
        "id": "ElwkXkhqLTSK"
      }
    },
    {
      "cell_type": "markdown",
      "source": [
        "Sol:  We can implement this by noticing that while a stack is LIFO (last in first out), if we empty a stack one-by-one into another stack, and then pop from the other stack we can simulate a FIFO (first in first out) list.\n",
        "\n",
        "\n",
        "```\n",
        "Consider enqueuing three elements: 1, 2, and then 3:\n",
        "stack1: [1, 2, 3]\n",
        "stack2: []\n",
        "Then emptying stack1 into stack2:\n",
        "stack1: []\n",
        "stack2: [3, 2, 1]\n",
        "Then dequeuing three times:\n",
        "1\n",
        "2\n",
        "3\n",
        "```\n",
        "\n",
        "\n",
        "Which retains the original order. So when enqueuing, we can simply push to our first stack. When dequeuing, we'll first check our stack-2 to see if any residual elements are there from a previous emptying, and if not, we'll empty all of elements of stack-1 into stack-2 immediately so that the order of elements is correct.\n"
      ],
      "metadata": {
        "id": "7pjGjUH8G6mA"
      }
    },
    {
      "cell_type": "code",
      "source": [
        "class Queue:\n",
        "  def __init__(self):\n",
        "    self.s1 = []\n",
        "    self.s2 = []\n",
        "\n",
        "  def enqueue(self, x):\n",
        "    self.s1.append(x)\n",
        "\n",
        "  def dequeue(self):\n",
        "    if self.s2:\n",
        "      return self.s2.pop()\n",
        "    if self.s1:\n",
        "      while self.s1:\n",
        "        self.s2.append(self.s1.pop())\n",
        "      return self.s2.pop()"
      ],
      "metadata": {
        "id": "wgOnTJ_1AQbQ"
      },
      "execution_count": 54,
      "outputs": []
    },
    {
      "cell_type": "code",
      "source": [
        "q = Queue()\n",
        "q.enqueue(6)\n",
        "q.enqueue(3)\n",
        "q.enqueue(5)\n",
        "q.enqueue(7)\n",
        "print(q.s1)  "
      ],
      "metadata": {
        "colab": {
          "base_uri": "https://localhost:8080/"
        },
        "id": "J_FYCx0-BRI0",
        "outputId": "b75636a1-6d04-451d-cfc2-4c801d429e42"
      },
      "execution_count": 62,
      "outputs": [
        {
          "output_type": "stream",
          "name": "stdout",
          "text": [
            "[6, 3, 5, 7]\n"
          ]
        }
      ]
    },
    {
      "cell_type": "code",
      "source": [
        "q.dequeue()"
      ],
      "metadata": {
        "colab": {
          "base_uri": "https://localhost:8080/"
        },
        "id": "12byMyttDcVT",
        "outputId": "b8cf08bd-c2a9-498a-ec88-55ed9595ca8c"
      },
      "execution_count": 63,
      "outputs": [
        {
          "output_type": "execute_result",
          "data": {
            "text/plain": [
              "6"
            ]
          },
          "metadata": {},
          "execution_count": 63
        }
      ]
    },
    {
      "cell_type": "code",
      "source": [
        "q.dequeue()"
      ],
      "metadata": {
        "colab": {
          "base_uri": "https://localhost:8080/"
        },
        "id": "bJwgsXpIGiXy",
        "outputId": "77268bb7-3725-428f-c731-3038409580c7"
      },
      "execution_count": 64,
      "outputs": [
        {
          "output_type": "execute_result",
          "data": {
            "text/plain": [
              "3"
            ]
          },
          "metadata": {},
          "execution_count": 64
        }
      ]
    },
    {
      "cell_type": "code",
      "source": [
        "q.dequeue()"
      ],
      "metadata": {
        "colab": {
          "base_uri": "https://localhost:8080/"
        },
        "id": "mSKNRWW3GitD",
        "outputId": "1f51a66f-b52a-4d7e-eb03-8527707ba34c"
      },
      "execution_count": 65,
      "outputs": [
        {
          "output_type": "execute_result",
          "data": {
            "text/plain": [
              "5"
            ]
          },
          "metadata": {},
          "execution_count": 65
        }
      ]
    },
    {
      "cell_type": "code",
      "source": [
        "q.dequeue()"
      ],
      "metadata": {
        "colab": {
          "base_uri": "https://localhost:8080/"
        },
        "id": "vLwvqUfpGi90",
        "outputId": "406a55d2-b453-4700-c836-b0ac069fd62e"
      },
      "execution_count": 66,
      "outputs": [
        {
          "output_type": "execute_result",
          "data": {
            "text/plain": [
              "7"
            ]
          },
          "metadata": {},
          "execution_count": 66
        }
      ]
    },
    {
      "cell_type": "markdown",
      "source": [
        "\n",
        "\n",
        "*   Time Complexity: Enqueue operation - O(1), Dequeue operation - O(N)  N is # of elements in queue.\n",
        "*   In input only we are provided 2 stacks, other than that we are not using anything.Space complexity: O(1)\n",
        "\n"
      ],
      "metadata": {
        "id": "AIVZB7vIHvMS"
      }
    }
  ]
}