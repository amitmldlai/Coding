{
  "nbformat": 4,
  "nbformat_minor": 0,
  "metadata": {
    "colab": {
      "provenance": [],
      "collapsed_sections": [],
      "authorship_tag": "ABX9TyMcAlejgvSLZW3JLHlwo31h",
      "include_colab_link": true
    },
    "kernelspec": {
      "name": "python3",
      "display_name": "Python 3"
    },
    "language_info": {
      "name": "python"
    }
  },
  "cells": [
    {
      "cell_type": "markdown",
      "metadata": {
        "id": "view-in-github",
        "colab_type": "text"
      },
      "source": [
        "<a href=\"https://colab.research.google.com/github/amitmldlai/Coding/blob/main/Arrays/Q2.ipynb\" target=\"_parent\"><img src=\"https://colab.research.google.com/assets/colab-badge.svg\" alt=\"Open In Colab\"/></a>"
      ]
    },
    {
      "cell_type": "markdown",
      "source": [
        "Given a sorted array arr of distinct integers, return the lowest index i for which arr[i] == i. Return null if there is no such index.\n",
        "\n",
        "For example, \n",
        "\n",
        "Given the array `[-5, -3, 2, 3]`, \n",
        "\n",
        "return 2 \n",
        "\n",
        "since arr[2] == 2. Even though arr[3] == 3, we return 2 since it's the lowest index.\n"
      ],
      "metadata": {
        "id": "ElwkXkhqLTSK"
      }
    },
    {
      "cell_type": "code",
      "execution_count": 26,
      "metadata": {
        "id": "wpZVAMGuLSwO"
      },
      "outputs": [],
      "source": [
        "def lowest_index(arr, start, end):\n",
        "  if start <= end:\n",
        "    mid = (start + end) //2\n",
        "    if arr[mid] == mid:\n",
        "      if mid-1>=0:\n",
        "        if arr[mid] - arr[mid-1] == 1:\n",
        "          return lowest_index(arr, start=0, end=mid-1)\n",
        "        else:\n",
        "          return mid \n",
        "      else:\n",
        "        return mid     \n",
        "    elif arr[mid] > mid:\n",
        "      return lowest_index(arr, start=start, end=mid-1)\n",
        "    else:\n",
        "      return lowest_index(arr, start=mid+1, end=end)    \n",
        "  else:\n",
        "    return 'Null'        "
      ]
    },
    {
      "cell_type": "code",
      "source": [
        "arr = [0, 1, 2, 4, 6, 9, 26, 47]\n",
        "end = len(arr)-1\n",
        "lowest_index(arr, start=0, end=end)"
      ],
      "metadata": {
        "colab": {
          "base_uri": "https://localhost:8080/"
        },
        "id": "3vmUzURgM189",
        "outputId": "f9fc64cb-b00b-4475-e057-1c53224383fa"
      },
      "execution_count": 28,
      "outputs": [
        {
          "output_type": "execute_result",
          "data": {
            "text/plain": [
              "0"
            ]
          },
          "metadata": {},
          "execution_count": 28
        }
      ]
    },
    {
      "cell_type": "code",
      "source": [
        "arr = [-5, -3, 2, 3]\n",
        "end = len(arr)-1\n",
        "lowest_index(arr, start=0, end=end)"
      ],
      "metadata": {
        "colab": {
          "base_uri": "https://localhost:8080/"
        },
        "id": "Dyv-HRfSTcWn",
        "outputId": "96acbd24-9d6d-4f65-e952-7995e98ea5ec"
      },
      "execution_count": 29,
      "outputs": [
        {
          "output_type": "execute_result",
          "data": {
            "text/plain": [
              "2"
            ]
          },
          "metadata": {},
          "execution_count": 29
        }
      ]
    },
    {
      "cell_type": "code",
      "source": [
        "arr = [-12, -3, -1, 0, 3, 5]\n",
        "end = len(arr)-1\n",
        "lowest_index(arr, start=0, end=end)"
      ],
      "metadata": {
        "colab": {
          "base_uri": "https://localhost:8080/"
        },
        "id": "zUEiw45lTuNe",
        "outputId": "9ba9955a-1016-41e8-c1f6-aafccfd8a974"
      },
      "execution_count": 32,
      "outputs": [
        {
          "output_type": "execute_result",
          "data": {
            "text/plain": [
              "5"
            ]
          },
          "metadata": {},
          "execution_count": 32
        }
      ]
    },
    {
      "cell_type": "code",
      "source": [
        "arr = [-12, -3, -1, 0, 3, 4]\n",
        "end = len(arr)-1\n",
        "lowest_index(arr, start=0, end=end)"
      ],
      "metadata": {
        "colab": {
          "base_uri": "https://localhost:8080/",
          "height": 36
        },
        "id": "Xo2eYaTPUc-a",
        "outputId": "fceb5a66-d9b3-4b88-bc45-87f76d5e0cbf"
      },
      "execution_count": 33,
      "outputs": [
        {
          "output_type": "execute_result",
          "data": {
            "text/plain": [
              "'Null'"
            ],
            "application/vnd.google.colaboratory.intrinsic+json": {
              "type": "string"
            }
          },
          "metadata": {},
          "execution_count": 33
        }
      ]
    },
    {
      "cell_type": "markdown",
      "source": [
        "\n",
        "\n",
        "*   Time complexity is O(log N), however in some cases when array is completely sorted like [0,1,2,3,4,5,6,7,8,9] it will cost O(N) as we end up calling the function recursively N/2 times\n",
        "*  Space complexity O(log N)-> log N call stacks will be envoked, in some cases it will be O(N)\n",
        "\n"
      ],
      "metadata": {
        "id": "EkOLub76UtEF"
      }
    }
  ]
}