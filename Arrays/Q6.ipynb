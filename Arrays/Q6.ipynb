{
  "nbformat": 4,
  "nbformat_minor": 0,
  "metadata": {
    "colab": {
      "provenance": [],
      "collapsed_sections": [],
      "authorship_tag": "ABX9TyPcnA32c0MXtfCbOqdLGQS9",
      "include_colab_link": true
    },
    "kernelspec": {
      "name": "python3",
      "display_name": "Python 3"
    },
    "language_info": {
      "name": "python"
    }
  },
  "cells": [
    {
      "cell_type": "markdown",
      "metadata": {
        "id": "view-in-github",
        "colab_type": "text"
      },
      "source": [
        "<a href=\"https://colab.research.google.com/github/amitmldlai/Coding/blob/main/Arrays/Q6.ipynb\" target=\"_parent\"><img src=\"https://colab.research.google.com/assets/colab-badge.svg\" alt=\"Open In Colab\"/></a>"
      ]
    },
    {
      "cell_type": "markdown",
      "source": [
        "MegaCorp wants to give bonuses to its employees based on how many lines of codes they have written. They would like to give the smallest positive amount to each worker consistent with the constraint that if a developer has written more lines of code than their neighbor, they should receive more money.\n",
        "\n",
        "Given an array representing a line of seats of employees at MegaCorp, determine how much each one should get paid.\n",
        "\n",
        "*For example*\n",
        "\n",
        "Given:  [10, 40, 200, 1000, 60, 30]\n",
        " \n",
        "Return:   [1, 2, 3, 4, 2, 1]\n"
      ],
      "metadata": {
        "id": "ElwkXkhqLTSK"
      }
    },
    {
      "cell_type": "markdown",
      "source": [
        "Sol:\n",
        "\n",
        "We can proceed by making a pass from left to right over our lines of code array. If a developer has written more code than their left neighbor, we can set their bonus to be one greater than that of the neighbor. \n",
        "\n",
        "Till now we only compared each developer with its left neighboring developer, we need to compare with right neighboring developer as well. For that purpose we need to repeat similar operation going right to left, but we cannot simply reverse the direction and repeat the previous step. In the array above, for example, this would set the bonus of the 1000-line developer back to 3, which would no longer be greater than their left neighbor. We can correct for this by ensuring that the developer's bonus is the maximum of its current value and one more than that of the right neighbor.\n"
      ],
      "metadata": {
        "id": "9Y0sufy2Ppj5"
      }
    },
    {
      "cell_type": "code",
      "execution_count": 74,
      "metadata": {
        "id": "wpZVAMGuLSwO"
      },
      "outputs": [],
      "source": [
        "def bonus(arr):\n",
        "  base_bonus = len(arr)*[1]  # to give the smallest positive amount to each worker\n",
        "  for index in range(1, len(arr)):\n",
        "    if arr[index] > arr[index-1]: # compare with left neighboring developer\n",
        "      base_bonus[index] =  base_bonus[index-1]+1\n",
        "  for index in range(len(arr)-2, -1, -1): \n",
        "    if arr[index] > arr[index+1]: # compare with right neighbouring developer\n",
        "      base_bonus[index] = max(base_bonus[index], base_bonus[index+1]+1) # to ensure developer's bonus is the maximum of its current value and one more than that of the right neighbor.  \n",
        "  return base_bonus     "
      ]
    },
    {
      "cell_type": "code",
      "source": [
        "bonus([10, 40, 200, 100, 160, 30])"
      ],
      "metadata": {
        "colab": {
          "base_uri": "https://localhost:8080/"
        },
        "id": "iV0FXOG-BtiE",
        "outputId": "b5f6817a-ab49-4526-8ec6-80ee4ab54381"
      },
      "execution_count": 75,
      "outputs": [
        {
          "output_type": "execute_result",
          "data": {
            "text/plain": [
              "[1, 2, 3, 1, 2, 1]"
            ]
          },
          "metadata": {},
          "execution_count": 75
        }
      ]
    },
    {
      "cell_type": "code",
      "source": [
        "bonus([10, 40, 200, 1000, 160, 30])"
      ],
      "metadata": {
        "colab": {
          "base_uri": "https://localhost:8080/"
        },
        "id": "VKBxPngYPFge",
        "outputId": "c8bb3f03-97b8-406f-faaf-315c76d16556"
      },
      "execution_count": 76,
      "outputs": [
        {
          "output_type": "execute_result",
          "data": {
            "text/plain": [
              "[1, 2, 3, 4, 2, 1]"
            ]
          },
          "metadata": {},
          "execution_count": 76
        }
      ]
    },
    {
      "cell_type": "code",
      "source": [
        "bonus([10, 10, 4, 20, 3, 1])"
      ],
      "metadata": {
        "colab": {
          "base_uri": "https://localhost:8080/"
        },
        "id": "jyhgdm06PHut",
        "outputId": "8e4fbc7c-83f0-4290-a369-cc384715e173"
      },
      "execution_count": 77,
      "outputs": [
        {
          "output_type": "execute_result",
          "data": {
            "text/plain": [
              "[1, 2, 1, 3, 2, 1]"
            ]
          },
          "metadata": {},
          "execution_count": 77
        }
      ]
    },
    {
      "cell_type": "code",
      "source": [
        "bonus([10])"
      ],
      "metadata": {
        "colab": {
          "base_uri": "https://localhost:8080/"
        },
        "id": "tCuUzmy2PftN",
        "outputId": "56b80fe6-bbd4-43f0-91cf-9c62f92aeded"
      },
      "execution_count": 78,
      "outputs": [
        {
          "output_type": "execute_result",
          "data": {
            "text/plain": [
              "[1]"
            ]
          },
          "metadata": {},
          "execution_count": 78
        }
      ]
    },
    {
      "cell_type": "code",
      "source": [
        "bonus([])"
      ],
      "metadata": {
        "colab": {
          "base_uri": "https://localhost:8080/"
        },
        "id": "l2kp7CbcPjZU",
        "outputId": "53dcda31-1bee-471a-b2ed-295f084dbfc0"
      },
      "execution_count": 79,
      "outputs": [
        {
          "output_type": "execute_result",
          "data": {
            "text/plain": [
              "[]"
            ]
          },
          "metadata": {},
          "execution_count": 79
        }
      ]
    },
    {
      "cell_type": "markdown",
      "source": [
        "\n",
        "\n",
        "* Time complexity = O(N), since we are iterating through the whole array twice\n",
        "* Space compelxity = O(N), for the base_bonus array created\n",
        "\n",
        "\n",
        "\n",
        "\n"
      ],
      "metadata": {
        "id": "EkOLub76UtEF"
      }
    }
  ]
}