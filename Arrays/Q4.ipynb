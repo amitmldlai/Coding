{
  "nbformat": 4,
  "nbformat_minor": 0,
  "metadata": {
    "colab": {
      "provenance": [],
      "collapsed_sections": [],
      "authorship_tag": "ABX9TyP/yzjDZQiPwjm0gP6rWnMK",
      "include_colab_link": true
    },
    "kernelspec": {
      "name": "python3",
      "display_name": "Python 3"
    },
    "language_info": {
      "name": "python"
    }
  },
  "cells": [
    {
      "cell_type": "markdown",
      "metadata": {
        "id": "view-in-github",
        "colab_type": "text"
      },
      "source": [
        "<a href=\"https://colab.research.google.com/github/amitmldlai/Coding/blob/main/Arrays/Q4.ipynb\" target=\"_parent\"><img src=\"https://colab.research.google.com/assets/colab-badge.svg\" alt=\"Open In Colab\"/></a>"
      ]
    },
    {
      "cell_type": "markdown",
      "source": [
        "Given a sorted array of n distinct elements.\n",
        "\n",
        "Find any 2 elements(a, b) such that a+b=k \n",
        "\n",
        "If no such elements return null\n"
      ],
      "metadata": {
        "id": "ElwkXkhqLTSK"
      }
    },
    {
      "cell_type": "markdown",
      "source": [
        "Sol:\n",
        "\n",
        "Since the array is sorted we can take advantage of it."
      ],
      "metadata": {
        "id": "lMdqj0RsQAxM"
      }
    },
    {
      "cell_type": "code",
      "execution_count": null,
      "metadata": {
        "id": "wpZVAMGuLSwO"
      },
      "outputs": [],
      "source": [
        "def find_elements(arr, start, end, k):\n",
        "  while start!=end:\n",
        "    if arr[start] + arr[end] == k:\n",
        "      return arr[start], arr[end]\n",
        "    elif arr[start]+arr[end] < k:\n",
        "      return find_elements(arr, start+1, end, k)\n",
        "    else:\n",
        "      return find_elements(arr, start, end-1, k)  \n",
        "  return 'Null'      "
      ]
    },
    {
      "cell_type": "code",
      "source": [
        "arr = [-1, 3, 4, 5, 6, 7, 8]\n",
        "end = len(arr)-1\n",
        "find_elements(arr, start=0, end=end, k=16)"
      ],
      "metadata": {
        "colab": {
          "base_uri": "https://localhost:8080/",
          "height": 36
        },
        "id": "3vmUzURgM189",
        "outputId": "7817250b-b304-4fec-eb8a-cd46ba89a9fe"
      },
      "execution_count": null,
      "outputs": [
        {
          "output_type": "execute_result",
          "data": {
            "text/plain": [
              "'Null'"
            ],
            "application/vnd.google.colaboratory.intrinsic+json": {
              "type": "string"
            }
          },
          "metadata": {},
          "execution_count": 21
        }
      ]
    },
    {
      "cell_type": "code",
      "source": [
        "arr = [-1, 3, 4, 5, 6, 7, 8]\n",
        "end = len(arr)-1\n",
        "find_elements(arr, start=0, end=end, k=7)"
      ],
      "metadata": {
        "colab": {
          "base_uri": "https://localhost:8080/"
        },
        "id": "iQLZwJwMRuMI",
        "outputId": "1fc4dc16-d329-4afe-a8aa-fc4bd9c31544"
      },
      "execution_count": null,
      "outputs": [
        {
          "output_type": "execute_result",
          "data": {
            "text/plain": [
              "(-1, 8)"
            ]
          },
          "metadata": {},
          "execution_count": 22
        }
      ]
    },
    {
      "cell_type": "code",
      "source": [
        "arr = [-1, 3, 4, 5, 6, 7, 8]\n",
        "end = len(arr)-1\n",
        "find_elements(arr, start=0, end=end, k=10)"
      ],
      "metadata": {
        "colab": {
          "base_uri": "https://localhost:8080/"
        },
        "id": "gK5N-wyCR8bv",
        "outputId": "cdeefa50-e693-4e26-c2f4-b269c6dd7654"
      },
      "execution_count": null,
      "outputs": [
        {
          "output_type": "execute_result",
          "data": {
            "text/plain": [
              "(3, 7)"
            ]
          },
          "metadata": {},
          "execution_count": 24
        }
      ]
    },
    {
      "cell_type": "markdown",
      "source": [
        "\n",
        "\n",
        "* Time complexity = O(N), space compelxity = O(N)\n",
        "*   If the provided array is not sorted then we need to sort it first and then apply the same algorithm, in that case overall TC = O(NlogN) + O(N)   -> O(NlogN)\n",
        "\n",
        "\n"
      ],
      "metadata": {
        "id": "EkOLub76UtEF"
      }
    }
  ]
}