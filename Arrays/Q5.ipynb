{
  "nbformat": 4,
  "nbformat_minor": 0,
  "metadata": {
    "colab": {
      "provenance": [],
      "collapsed_sections": [],
      "authorship_tag": "ABX9TyMNV+qMEitNnI76rOS1L2b8",
      "include_colab_link": true
    },
    "kernelspec": {
      "name": "python3",
      "display_name": "Python 3"
    },
    "language_info": {
      "name": "python"
    }
  },
  "cells": [
    {
      "cell_type": "markdown",
      "metadata": {
        "id": "view-in-github",
        "colab_type": "text"
      },
      "source": [
        "<a href=\"https://colab.research.google.com/github/amitmldlai/Coding/blob/main/Arrays/Q5.ipynb\" target=\"_parent\"><img src=\"https://colab.research.google.com/assets/colab-badge.svg\" alt=\"Open In Colab\"/></a>"
      ]
    },
    {
      "cell_type": "markdown",
      "source": [
        "Given an unsorted array of n distinct elements.\n",
        "\n",
        "Find any 2 elements(a, b) such that a+b>k \n",
        "\n",
        "If no such elements return null\n"
      ],
      "metadata": {
        "id": "ElwkXkhqLTSK"
      }
    },
    {
      "cell_type": "markdown",
      "source": [
        "Sol:\n",
        "\n",
        " \n",
        "\n",
        "*   As the array is not sorted, the first approach that comes is to sort the array and check for last two elements, if sum of last two elements > k then we can return these two elements else if sum < k, then there dont exist any such element as in sorted array last 2 elements are the largest elements.In this case overall TC = O(NlogN)  -> to sort the array + O(1)  -> to check for last 2 elements sum\n",
        "*   However, if we are only concerned about the 2 largest elements, then we simply apply 2 pass of Bubble sort, which will push 2 largest element in the array at end.In this case TC = O(N) + O(1) -> O(N) \n",
        "\n",
        "\n",
        "\n",
        "\n"
      ],
      "metadata": {
        "id": "lMdqj0RsQAxM"
      }
    },
    {
      "cell_type": "code",
      "execution_count": 25,
      "metadata": {
        "id": "wpZVAMGuLSwO"
      },
      "outputs": [],
      "source": [
        "def find_elements(arr, start, end, k):\n",
        "  if start == end:  # single element check\n",
        "    return 'Null'\n",
        "\n",
        "  for i in range(2):  #  Bubble sort 2 pass\n",
        "    for j in range(end-i):\n",
        "      if arr[j]>arr[j+1]:\n",
        "        arr[j], arr[j+1] = arr[j+1], arr[j]\n",
        "\n",
        "  if arr[end-1]+ arr[end]>k:  # final condition check\n",
        "    return arr[end-1], arr[end]     \n",
        "  else:\n",
        "    return 'Null'"
      ]
    },
    {
      "cell_type": "code",
      "source": [
        "arr = [2, 6, 1, 8, -3, 7, 9]\n",
        "end = len(arr)-1\n",
        "find_elements(arr, start=0, end=end, k=19)"
      ],
      "metadata": {
        "colab": {
          "base_uri": "https://localhost:8080/",
          "height": 36
        },
        "id": "3vmUzURgM189",
        "outputId": "37c895a9-6f79-4e66-e483-38908ba14be9"
      },
      "execution_count": 26,
      "outputs": [
        {
          "output_type": "execute_result",
          "data": {
            "text/plain": [
              "'Null'"
            ],
            "application/vnd.google.colaboratory.intrinsic+json": {
              "type": "string"
            }
          },
          "metadata": {},
          "execution_count": 26
        }
      ]
    },
    {
      "cell_type": "code",
      "source": [
        "arr = [-11, 3, 14, 5, 16, 7, 8]\n",
        "end = len(arr)-1\n",
        "find_elements(arr, start=0, end=end, k=27)"
      ],
      "metadata": {
        "colab": {
          "base_uri": "https://localhost:8080/"
        },
        "id": "iQLZwJwMRuMI",
        "outputId": "e9925844-58ee-4ad6-f1b8-65a965d122be"
      },
      "execution_count": 27,
      "outputs": [
        {
          "output_type": "execute_result",
          "data": {
            "text/plain": [
              "(14, 16)"
            ]
          },
          "metadata": {},
          "execution_count": 27
        }
      ]
    },
    {
      "cell_type": "code",
      "source": [
        "arr = [5, 6, 7, 8]\n",
        "end = len(arr)-1\n",
        "find_elements(arr, start=0, end=end, k=10)"
      ],
      "metadata": {
        "colab": {
          "base_uri": "https://localhost:8080/"
        },
        "id": "gK5N-wyCR8bv",
        "outputId": "ca5057a1-d19e-4521-d4ca-1d27be4158f7"
      },
      "execution_count": 28,
      "outputs": [
        {
          "output_type": "execute_result",
          "data": {
            "text/plain": [
              "(7, 8)"
            ]
          },
          "metadata": {},
          "execution_count": 28
        }
      ]
    },
    {
      "cell_type": "markdown",
      "source": [
        "\n",
        "\n",
        "* Time complexity = O(N), space compelxity = O(1)\n",
        "\n",
        "\n"
      ],
      "metadata": {
        "id": "EkOLub76UtEF"
      }
    }
  ]
}