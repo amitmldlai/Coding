{
  "nbformat": 4,
  "nbformat_minor": 0,
  "metadata": {
    "colab": {
      "provenance": [],
      "collapsed_sections": [],
      "authorship_tag": "ABX9TyMektVrxFjxCi4bg1TAbZJK",
      "include_colab_link": true
    },
    "kernelspec": {
      "name": "python3",
      "display_name": "Python 3"
    },
    "language_info": {
      "name": "python"
    }
  },
  "cells": [
    {
      "cell_type": "markdown",
      "metadata": {
        "id": "view-in-github",
        "colab_type": "text"
      },
      "source": [
        "<a href=\"https://colab.research.google.com/github/amitmldlai/Coding/blob/main/Arrays/Q3.ipynb\" target=\"_parent\"><img src=\"https://colab.research.google.com/assets/colab-badge.svg\" alt=\"Open In Colab\"/></a>"
      ]
    },
    {
      "cell_type": "markdown",
      "source": [
        "Given a sorted array of n integers.\n",
        "\n",
        "Find any element Ai such that A[i]=i\n",
        "\n",
        "If no such elements return null\n"
      ],
      "metadata": {
        "id": "ElwkXkhqLTSK"
      }
    },
    {
      "cell_type": "markdown",
      "source": [
        "Sol:\n",
        "\n",
        "Although the array is sorted but the elements in the array may be repeated, in that case applying binary search will not provide correct result as any such such element can be present late in the sequence also. In this case it's better to apply Linear search."
      ],
      "metadata": {
        "id": "lMdqj0RsQAxM"
      }
    },
    {
      "cell_type": "code",
      "execution_count": 4,
      "metadata": {
        "id": "wpZVAMGuLSwO"
      },
      "outputs": [],
      "source": [
        "def find_equal(arr, start, end):\n",
        "  for index, element in enumerate(arr):\n",
        "    if arr[index] == index:\n",
        "      return element\n",
        "  else:\n",
        "    return 'Null'       "
      ]
    },
    {
      "cell_type": "code",
      "source": [
        "arr = [-1, 3, 4, 4, 6, 6, 6]\n",
        "end = len(arr)-1\n",
        "find_equal(arr, start=0, end=end)"
      ],
      "metadata": {
        "colab": {
          "base_uri": "https://localhost:8080/"
        },
        "id": "3vmUzURgM189",
        "outputId": "ccb43395-0c3c-4ff8-ba7c-35a2a80b19a5"
      },
      "execution_count": 5,
      "outputs": [
        {
          "output_type": "execute_result",
          "data": {
            "text/plain": [
              "6"
            ]
          },
          "metadata": {},
          "execution_count": 5
        }
      ]
    },
    {
      "cell_type": "code",
      "source": [
        "arr = [-1, 3, 4, 4, 6, 6, 7]\n",
        "end = len(arr)-1\n",
        "find_equal(arr, start=0, end=end)"
      ],
      "metadata": {
        "colab": {
          "base_uri": "https://localhost:8080/",
          "height": 36
        },
        "id": "iQLZwJwMRuMI",
        "outputId": "67c05009-c225-4a6e-bcba-3de8ee02fe7d"
      },
      "execution_count": 6,
      "outputs": [
        {
          "output_type": "execute_result",
          "data": {
            "text/plain": [
              "'Null'"
            ],
            "application/vnd.google.colaboratory.intrinsic+json": {
              "type": "string"
            }
          },
          "metadata": {},
          "execution_count": 6
        }
      ]
    },
    {
      "cell_type": "code",
      "source": [
        "arr = [0, 1, 4, 4, 6, 6, 7]\n",
        "end = len(arr)-1\n",
        "find_equal(arr, start=0, end=end)"
      ],
      "metadata": {
        "colab": {
          "base_uri": "https://localhost:8080/"
        },
        "id": "gK5N-wyCR8bv",
        "outputId": "ce9ecf23-1c61-4a88-f43a-1c102a35750a"
      },
      "execution_count": 8,
      "outputs": [
        {
          "output_type": "execute_result",
          "data": {
            "text/plain": [
              "0"
            ]
          },
          "metadata": {},
          "execution_count": 8
        }
      ]
    },
    {
      "cell_type": "markdown",
      "source": [
        "\n",
        "\n",
        "* Time complexity = O(N), space compelxity = O(1)\n"
      ],
      "metadata": {
        "id": "EkOLub76UtEF"
      }
    }
  ]
}