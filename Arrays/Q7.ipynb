{
  "nbformat": 4,
  "nbformat_minor": 0,
  "metadata": {
    "colab": {
      "provenance": [],
      "authorship_tag": "ABX9TyO1uPFa7p4gG8S2QCfrwMJL",
      "include_colab_link": true
    },
    "kernelspec": {
      "name": "python3",
      "display_name": "Python 3"
    },
    "language_info": {
      "name": "python"
    }
  },
  "cells": [
    {
      "cell_type": "markdown",
      "metadata": {
        "id": "view-in-github",
        "colab_type": "text"
      },
      "source": [
        "<a href=\"https://colab.research.google.com/github/amitmldlai/Coding/blob/main/Arrays/Q7.ipynb\" target=\"_parent\"><img src=\"https://colab.research.google.com/assets/colab-badge.svg\" alt=\"Open In Colab\"/></a>"
      ]
    },
    {
      "cell_type": "markdown",
      "source": [
        "Given an array of integers out of order, determine the bounds of the smallest window that must be sorted in order for the entire array to be sorted.\n",
        "\n",
        " `For example, given [3, 7, 5, 6, 9], you should return (1, 3).`"
      ],
      "metadata": {
        "id": "-079QddrJeit"
      }
    },
    {
      "cell_type": "code",
      "execution_count": 2,
      "metadata": {
        "id": "vW1p0EPYJdPU"
      },
      "outputs": [],
      "source": [
        "def smallest_bound(arr):\n",
        "  left, right = None, None\n",
        "  sorted_arr = sorted(arr)\n",
        "  for i in range(len(arr)):\n",
        "    if left ==  None and arr[i] != sorted_arr[i]:\n",
        "      left = i\n",
        "    elif arr[i] != sorted_arr[i]:\n",
        "      right = i\n",
        "  return left, right    "
      ]
    },
    {
      "cell_type": "code",
      "source": [
        "smallest_bound([3, 7, 5, 6, 9])"
      ],
      "metadata": {
        "colab": {
          "base_uri": "https://localhost:8080/"
        },
        "id": "rup04SwfKgtF",
        "outputId": "e115c8d9-2009-4f80-a0da-91921be9d4ed"
      },
      "execution_count": 3,
      "outputs": [
        {
          "output_type": "execute_result",
          "data": {
            "text/plain": [
              "(1, 3)"
            ]
          },
          "metadata": {},
          "execution_count": 3
        }
      ]
    },
    {
      "cell_type": "code",
      "source": [
        "smallest_bound([9, 8, 5, 3, 1, 0])"
      ],
      "metadata": {
        "colab": {
          "base_uri": "https://localhost:8080/"
        },
        "id": "k0TVvrbyLFek",
        "outputId": "67084593-e56a-4f77-c8b4-7dcb920a6b17"
      },
      "execution_count": 4,
      "outputs": [
        {
          "output_type": "execute_result",
          "data": {
            "text/plain": [
              "(0, 5)"
            ]
          },
          "metadata": {},
          "execution_count": 4
        }
      ]
    },
    {
      "cell_type": "code",
      "source": [
        "smallest_bound([0, 0, 0, 0])"
      ],
      "metadata": {
        "colab": {
          "base_uri": "https://localhost:8080/"
        },
        "id": "1sRD6Up2LJQs",
        "outputId": "3103b91e-aaf0-4e16-9740-c3b609c8f469"
      },
      "execution_count": 5,
      "outputs": [
        {
          "output_type": "execute_result",
          "data": {
            "text/plain": [
              "(None, None)"
            ]
          },
          "metadata": {},
          "execution_count": 5
        }
      ]
    },
    {
      "cell_type": "code",
      "source": [
        "smallest_bound([7, 3, 5, 4, 1, 6])"
      ],
      "metadata": {
        "colab": {
          "base_uri": "https://localhost:8080/"
        },
        "id": "1msqr0JsLNVM",
        "outputId": "56377f4e-ccc5-450d-c46f-4d3f3085e5c6"
      },
      "execution_count": 6,
      "outputs": [
        {
          "output_type": "execute_result",
          "data": {
            "text/plain": [
              "(0, 5)"
            ]
          },
          "metadata": {},
          "execution_count": 6
        }
      ]
    },
    {
      "cell_type": "markdown",
      "source": [
        "This takes O(NlogN) time and space."
      ],
      "metadata": {
        "id": "yrUTBwoGU81r"
      }
    },
    {
      "cell_type": "code",
      "source": [
        "def window(array):\n",
        "    left, right = None, None\n",
        "    n = len(array)\n",
        "    max_seen, min_seen = -float(\"inf\"), float(\"inf\")\n",
        "\n",
        "    for i in range(n):\n",
        "        max_seen = max(max_seen, array[i])\n",
        "        if array[i] < max_seen:\n",
        "            right = i\n",
        "\n",
        "    for i in range(n - 1, -1, -1):\n",
        "        min_seen = min(min_seen, array[i])\n",
        "        if array[i] > min_seen:\n",
        "            left = i\n",
        "\n",
        "    return left, right"
      ],
      "metadata": {
        "id": "gNBRNYe3OJVb"
      },
      "execution_count": 7,
      "outputs": []
    },
    {
      "cell_type": "code",
      "source": [
        "window([7, 3, 5, 4, 1, 6])"
      ],
      "metadata": {
        "colab": {
          "base_uri": "https://localhost:8080/"
        },
        "id": "UNI9ivw5OfhN",
        "outputId": "6ecf5093-b06f-4960-bd0c-fe367e735068"
      },
      "execution_count": 8,
      "outputs": [
        {
          "output_type": "execute_result",
          "data": {
            "text/plain": [
              "(0, 5)"
            ]
          },
          "metadata": {},
          "execution_count": 8
        }
      ]
    },
    {
      "cell_type": "code",
      "source": [
        "window([3, 7, 5, 6, 9])"
      ],
      "metadata": {
        "colab": {
          "base_uri": "https://localhost:8080/"
        },
        "id": "CPqLRdOUOiDN",
        "outputId": "2d853edd-8c67-4953-bd26-aa43b2b85be8"
      },
      "execution_count": 10,
      "outputs": [
        {
          "output_type": "execute_result",
          "data": {
            "text/plain": [
              "(1, 3)"
            ]
          },
          "metadata": {},
          "execution_count": 10
        }
      ]
    },
    {
      "cell_type": "code",
      "source": [
        "window([7, 3, 5, 4, 1, 6])"
      ],
      "metadata": {
        "id": "rCEE_6vXTx68"
      },
      "execution_count": null,
      "outputs": []
    },
    {
      "cell_type": "markdown",
      "source": [
        " \n",
        "\n",
        "*   Another way to do is to  traverse the array, from left to right, and took note of whether each element was less than the maximum seen up to that point. This element would have to be part of the sorting window, since we would have to move the maximum element past it.\n",
        "*   As a result, we can take the last element that is less than the running maximum, and use it as our right bound. Similarly, for our left bound, we can traverse the array from right to left, and find the last element that exceeds the running minimum.\n",
        "* This will take two passes over the array, operating in O(N) time and O(1) space   \n"
      ],
      "metadata": {
        "id": "CWjR_jCDVFVj"
      }
    }
  ]
}