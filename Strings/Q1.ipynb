{
  "nbformat": 4,
  "nbformat_minor": 0,
  "metadata": {
    "colab": {
      "provenance": [],
      "collapsed_sections": [],
      "authorship_tag": "ABX9TyNzoEBPf3yuW7jSgFl1rHV3",
      "include_colab_link": true
    },
    "kernelspec": {
      "name": "python3",
      "display_name": "Python 3"
    },
    "language_info": {
      "name": "python"
    }
  },
  "cells": [
    {
      "cell_type": "markdown",
      "metadata": {
        "id": "view-in-github",
        "colab_type": "text"
      },
      "source": [
        "<a href=\"https://colab.research.google.com/github/amitmldlai/Coding/blob/main/Q1.ipynb\" target=\"_parent\"><img src=\"https://colab.research.google.com/assets/colab-badge.svg\" alt=\"Open In Colab\"/></a>"
      ]
    },
    {
      "cell_type": "markdown",
      "source": [
        "Given a string, generate all possible subsequences of the string.\n",
        "\n",
        "For example, given the string xyz, return an array or set with the following strings:\n",
        "\n",
        "\n",
        "\n",
        "```\n",
        "x\n",
        "y\n",
        "z\n",
        "xy\n",
        "xz\n",
        "yz\n",
        "xyz\n",
        "```\n",
        "\n",
        "Note, that zx is not a valid subsequence since it is not in the order of the given string.\n",
        "\n"
      ],
      "metadata": {
        "id": "ElwkXkhqLTSK"
      }
    },
    {
      "cell_type": "code",
      "execution_count": 1,
      "metadata": {
        "id": "wpZVAMGuLSwO"
      },
      "outputs": [],
      "source": [
        "def subsequence(s):\n",
        "  if s == '':\n",
        "    return ['']\n",
        "  result = list()\n",
        "  rest = subsequence(s[1:])  #  compute subsequence of n-1 characters first\n",
        "  result.extend(rest)\n",
        "  result.extend([s[0] + subseq for subseq in result])  #  appending the 1 charcter to the above computed subsequence\n",
        "  return result  "
      ]
    },
    {
      "cell_type": "code",
      "source": [
        "subsequence('xyz')"
      ],
      "metadata": {
        "colab": {
          "base_uri": "https://localhost:8080/"
        },
        "id": "3vmUzURgM189",
        "outputId": "b46f396e-1c50-4c54-9737-e5605e498084"
      },
      "execution_count": 3,
      "outputs": [
        {
          "output_type": "execute_result",
          "data": {
            "text/plain": [
              "['', 'z', 'y', 'yz', 'x', 'xz', 'xy', 'xyz']"
            ]
          },
          "metadata": {},
          "execution_count": 3
        }
      ]
    },
    {
      "cell_type": "code",
      "source": [
        "subsequence('')"
      ],
      "metadata": {
        "colab": {
          "base_uri": "https://localhost:8080/"
        },
        "id": "Dyv-HRfSTcWn",
        "outputId": "31bf0641-baf7-43da-8d0a-9e6dc535bbbb"
      },
      "execution_count": 4,
      "outputs": [
        {
          "output_type": "execute_result",
          "data": {
            "text/plain": [
              "['']"
            ]
          },
          "metadata": {},
          "execution_count": 4
        }
      ]
    },
    {
      "cell_type": "code",
      "source": [
        "subsequence('x')"
      ],
      "metadata": {
        "colab": {
          "base_uri": "https://localhost:8080/"
        },
        "id": "zUEiw45lTuNe",
        "outputId": "aae0dc35-9a15-4077-e90d-34152024723b"
      },
      "execution_count": 5,
      "outputs": [
        {
          "output_type": "execute_result",
          "data": {
            "text/plain": [
              "['', 'x']"
            ]
          },
          "metadata": {},
          "execution_count": 5
        }
      ]
    },
    {
      "cell_type": "markdown",
      "source": [
        "\n",
        "\n",
        "*   We can solve this by assuming that we have the subsequence of n-1 characters and we will append the 1 character to this subsequence by calling it recursively\n",
        "\n",
        "*   Time and space complexity is O(2^n), since 2^n subsequences envoked\n"
      ],
      "metadata": {
        "id": "EkOLub76UtEF"
      }
    }
  ]
}