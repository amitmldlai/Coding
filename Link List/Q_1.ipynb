{
  "cells": [
    {
      "cell_type": "markdown",
      "metadata": {
        "id": "view-in-github",
        "colab_type": "text"
      },
      "source": [
        "<a href=\"https://colab.research.google.com/github/amitmldlai/Coding/blob/main/Q_1.ipynb\" target=\"_parent\"><img src=\"https://colab.research.google.com/assets/colab-badge.svg\" alt=\"Open In Colab\"/></a>"
      ]
    },
    {
      "cell_type": "markdown",
      "source": [
        "Given a linked list and an integer k, remove the k-th node from the end of the list and return the head of the list.\n",
        "\n",
        "k is guaranteed to be smaller than the length of the list.\n",
        "\n",
        "Do this in one pass.\n",
        "\n"
      ],
      "metadata": {
        "id": "qKBGFh7fGi8R"
      }
    },
    {
      "cell_type": "code",
      "source": [
        "import numpy as np"
      ],
      "metadata": {
        "id": "8dsschwwyi5Y"
      },
      "execution_count": 63,
      "outputs": []
    },
    {
      "cell_type": "code",
      "source": [
        "class Node:  # to create new Node\n",
        "    def __init__(self, val, nxt=None):\n",
        "        self.val = val\n",
        "        self.next = nxt\n",
        "\n",
        "class LinkedList: \n",
        "    def __init__(self):\n",
        "        self.head = None\n",
        "    \n",
        "    def push(self, new_data):  # to push new Node to Linked List\n",
        "      new_node = Node(new_data)\n",
        "      new_node.next = self.head\n",
        "      self.head = new_node\n",
        "\n",
        "    def print_linked_list(self, head):  # to print the Linked List\n",
        "       s = ''\n",
        "       curr = head\n",
        "       while curr is not None:\n",
        "         s += str(curr.val)\n",
        "         s += ' -> '\n",
        "         curr = curr.next  \n",
        "       print(s)\n",
        "\n",
        "    def remove_kth_node_from_end(self, head, k):  # to remove kth element from the linked list\n",
        "      fast = head\n",
        "      try:\n",
        "        for i in range(k):\n",
        "          fast = fast.next\n",
        "        slow = head\n",
        "        while fast.next is not None:\n",
        "            fast = fast.next\n",
        "            slow = slow.next\n",
        "        slow.next = slow.next.next\n",
        "      except Exception:\n",
        "        print('Cannot remove, not enough elements in list')"
      ],
      "metadata": {
        "id": "DtN1-_R4GiBV"
      },
      "execution_count": 64,
      "outputs": []
    },
    {
      "cell_type": "markdown",
      "source": [
        "Example 1:"
      ],
      "metadata": {
        "id": "pF7Kl7amykz7"
      }
    },
    {
      "cell_type": "code",
      "source": [
        "llist = LinkedList()\n",
        "for i in np.random.randint(0, 500, 15):\n",
        "  llist.push(i)"
      ],
      "metadata": {
        "id": "KDXGp7VgX9Lo"
      },
      "execution_count": 65,
      "outputs": []
    },
    {
      "cell_type": "code",
      "source": [
        "head = llist.head\n",
        "llist.print_linked_list(head)"
      ],
      "metadata": {
        "colab": {
          "base_uri": "https://localhost:8080/"
        },
        "id": "3fpfNqSzYPlF",
        "outputId": "aa2fc768-dddd-4460-d43f-4687982c657c"
      },
      "execution_count": 66,
      "outputs": [
        {
          "output_type": "stream",
          "name": "stdout",
          "text": [
            "489 -> 99 -> 175 -> 477 -> 148 -> 124 -> 50 -> 93 -> 362 -> 288 -> 365 -> 89 -> 214 -> 252 -> 293 -> \n"
          ]
        }
      ]
    },
    {
      "cell_type": "code",
      "source": [
        "llist.remove_kth_node_from_end(head, 3)\n",
        "llist.print_linked_list(head)"
      ],
      "metadata": {
        "colab": {
          "base_uri": "https://localhost:8080/"
        },
        "id": "OXds87sqYhg8",
        "outputId": "e1bcbb6a-2efe-48e9-f3da-4d8f5c53d3ce"
      },
      "execution_count": 67,
      "outputs": [
        {
          "output_type": "stream",
          "name": "stdout",
          "text": [
            "489 -> 99 -> 175 -> 477 -> 148 -> 124 -> 50 -> 93 -> 362 -> 288 -> 365 -> 89 -> 252 -> 293 -> \n"
          ]
        }
      ]
    },
    {
      "cell_type": "markdown",
      "source": [
        "Example 2:"
      ],
      "metadata": {
        "id": "vW_jYAmGyntP"
      }
    },
    {
      "cell_type": "code",
      "source": [
        "llist = LinkedList()\n",
        "for i in np.random.randint(0, 500, 1):\n",
        "  llist.push(i)"
      ],
      "metadata": {
        "id": "sQqyrloOxBWa"
      },
      "execution_count": 68,
      "outputs": []
    },
    {
      "cell_type": "code",
      "source": [
        "head = llist.head\n",
        "llist.print_linked_list(head)"
      ],
      "metadata": {
        "colab": {
          "base_uri": "https://localhost:8080/"
        },
        "id": "c-y3mRQ_xqIB",
        "outputId": "4d67cdc5-e297-4a06-9c5b-0e95967e31d5"
      },
      "execution_count": 69,
      "outputs": [
        {
          "output_type": "stream",
          "name": "stdout",
          "text": [
            "125 -> \n"
          ]
        }
      ]
    },
    {
      "cell_type": "code",
      "source": [
        "llist.remove_kth_node_from_end(head, 3)\n",
        "llist.print_linked_list(head)"
      ],
      "metadata": {
        "colab": {
          "base_uri": "https://localhost:8080/"
        },
        "id": "IxCnlmvAxuBy",
        "outputId": "9cfb9bb9-d8c9-4814-c997-474a29a50ecc"
      },
      "execution_count": 70,
      "outputs": [
        {
          "output_type": "stream",
          "name": "stdout",
          "text": [
            "Cannot remove, not enough elements in list\n",
            "125 -> \n"
          ]
        }
      ]
    },
    {
      "cell_type": "markdown",
      "source": [
        "1. Since we're limited to to only perform the task in one pass, one common trick frequently used in linked list problems is concept of fast and slow pointers. In this case, we can have two pointers, one moving k steps ahead of the other one (the slow one). Then, when the fast one reaches the end of the linked list, we know that the slow pointer is k steps from the end, and we can remove it there.\n",
        "\n",
        "2. We iterate through the list once, hence O(N) time complexity.\n",
        "3. Space Complexity: O(1), as only 2 extra pointers are used other than the  given input space. "
      ],
      "metadata": {
        "id": "JprIsblhyuzk"
      }
    }
  ],
  "metadata": {
    "accelerator": "GPU",
    "colab": {
      "provenance": [],
      "collapsed_sections": [],
      "authorship_tag": "ABX9TyNDSYgzsd8Ty37mxBBg1joi",
      "include_colab_link": true
    },
    "kernelspec": {
      "display_name": "Python 3",
      "name": "python3"
    },
    "language_info": {
      "name": "python"
    }
  },
  "nbformat": 4,
  "nbformat_minor": 0
}