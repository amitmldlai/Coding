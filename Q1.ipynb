{
  "nbformat": 4,
  "nbformat_minor": 0,
  "metadata": {
    "colab": {
      "provenance": [],
      "collapsed_sections": [],
      "authorship_tag": "ABX9TyO/4m+Acg2/dH8RpzXjhaET",
      "include_colab_link": true
    },
    "kernelspec": {
      "name": "python3",
      "display_name": "Python 3"
    },
    "language_info": {
      "name": "python"
    }
  },
  "cells": [
    {
      "cell_type": "markdown",
      "metadata": {
        "id": "view-in-github",
        "colab_type": "text"
      },
      "source": [
        "<a href=\"https://colab.research.google.com/github/amitmldlai/Coding/blob/main/Q1.ipynb\" target=\"_parent\"><img src=\"https://colab.research.google.com/assets/colab-badge.svg\" alt=\"Open In Colab\"/></a>"
      ]
    },
    {
      "cell_type": "markdown",
      "source": [
        "You are given a list of jobs to be done, where each job is represented by a start time and end time. Two jobs are compatible if they don't overlap. Find the largest subset of compatible jobs.\n",
        "\n",
        "\n",
        "For example, given the following jobs (there is no guarantee that jobs will be sorted):\n",
        "\n",
        "```\n",
        "[(0, 6),\n",
        "(1, 4),\n",
        "(3, 5),\n",
        "(3, 8),\n",
        "(4, 7),\n",
        "(5, 9),\n",
        "(6, 10),\n",
        "(8, 11)]\n",
        "```\n",
        "\n",
        "Return:\n",
        "```\n",
        "[(1, 4),\n",
        "(4, 7),\n",
        "(8, 11)]\n",
        "```\n"
      ],
      "metadata": {
        "id": "RqBtRS_LMeBJ"
      }
    },
    {
      "cell_type": "markdown",
      "source": [
        "**Solution:**\n",
        "\n",
        "There are several ways we can order and schedule jobs greedily:\n",
        "\n",
        "If we do it by: \n",
        "\n",
        "1.   Earliest start time \n",
        "\n",
        "        Return:\n",
        "\n",
        "        ```\n",
        "        [(0, 6),\n",
        "        (6, 10)]\n",
        "        ```\n",
        "\n",
        "2.   Earliest finish time \n",
        "\n",
        "        Return:\n",
        "\n",
        "        ```\n",
        "        [(1, 4),\n",
        "        (4, 7),\n",
        "        (8, 11)]\n",
        "        ```\n",
        "3.   Shortest interval\n",
        "\n",
        "        Return:\n",
        "\n",
        "        ```\n",
        "        [(3, 5),\n",
        "        (8, 11)]\n",
        "        ```\n",
        "\n",
        "\n",
        "We get maximum jobs scheduled when we are greedy about Earliest finish time. It's because by sorting it with earliest finish time we'll always be picking the closest one to finishing, it can't conflict with future candidates.\n",
        "\n",
        "So, our algorithm will look like this:\n",
        "1. Sort all jobs by their earliest finish time. \n",
        "2. Go over every sorted job, and if it's compatible with the current schedule, then add it to our result.\n",
        " \n"
      ],
      "metadata": {
        "id": "AyGmyZvxM79_"
      }
    },
    {
      "cell_type": "code",
      "execution_count": 1,
      "metadata": {
        "id": "6n-1kEZ-FQRz"
      },
      "outputs": [],
      "source": [
        "def largest_subset_jobs(jobs):\n",
        "    sorted_jobs = sorted(jobs, key=lambda j: j[1])  # sorting by finish time(earliest)\n",
        "    job_list = list()\n",
        "\n",
        "    for job in sorted_jobs:\n",
        "        if not job_list:    # if job list is empty then add the earliest finishing job as first job to list\n",
        "            job_list.append(job)\n",
        "\n",
        "        if job[0] >= job_list[-1][1]:   # if current job start time is greater than the last job present in\n",
        "            job_list.append(job)        # job_list then it should be added as next job in the job_list\n",
        "\n",
        "    return job_list"
      ]
    },
    {
      "cell_type": "code",
      "source": [
        "largest_subset_jobs([(0, 6),\n",
        "(1, 4),\n",
        "(3, 5),\n",
        "(3, 8),\n",
        "(4, 7),\n",
        "(5, 9),\n",
        "(6, 10),\n",
        "(8, 11)])"
      ],
      "metadata": {
        "colab": {
          "base_uri": "https://localhost:8080/"
        },
        "id": "2UcdJx1CSvkt",
        "outputId": "f184f15a-618a-410a-ad11-1d117e29d6e0"
      },
      "execution_count": 2,
      "outputs": [
        {
          "output_type": "execute_result",
          "data": {
            "text/plain": [
              "[(1, 4), (4, 7), (8, 11)]"
            ]
          },
          "metadata": {},
          "execution_count": 2
        }
      ]
    },
    {
      "cell_type": "markdown",
      "source": [
        "This algorithm takes O(N log N) time for sorting + we iterate over the sorted_jobs array once which takes O(N) time, so overall time complexity is O(N log N)"
      ],
      "metadata": {
        "id": "kUe9ZZMbSJe9"
      }
    }
  ]
}