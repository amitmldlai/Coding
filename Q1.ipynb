{
  "nbformat": 4,
  "nbformat_minor": 0,
  "metadata": {
    "colab": {
      "provenance": [],
      "collapsed_sections": [],
      "authorship_tag": "ABX9TyNQHxfwPB7fsCuYjoQoxfQv",
      "include_colab_link": true
    },
    "kernelspec": {
      "name": "python3",
      "display_name": "Python 3"
    },
    "language_info": {
      "name": "python"
    }
  },
  "cells": [
    {
      "cell_type": "markdown",
      "metadata": {
        "id": "view-in-github",
        "colab_type": "text"
      },
      "source": [
        "<a href=\"https://colab.research.google.com/github/amitmldlai/Coding/blob/main/Q1.ipynb\" target=\"_parent\"><img src=\"https://colab.research.google.com/assets/colab-badge.svg\" alt=\"Open In Colab\"/></a>"
      ]
    },
    {
      "cell_type": "markdown",
      "source": [
        "Given a binary tree, return the level of the tree with minimum sum.\n",
        "\n",
        "\n",
        "A binary tree is a data structure in which each node has at most two children (left and right), and a level is how many parents a node has until it reaches the root.\n",
        "\n",
        "Example \n",
        "\n",
        "       1      (Level 0 = 1)\n",
        "      / \\\n",
        "     -2   -3    (Level 1 = -2 + -3)\n",
        "        / \\\n",
        "       4   -5  (Level 2 = 4 + -5)"
      ],
      "metadata": {
        "id": "_ilfnpKjWgiG"
      }
    },
    {
      "cell_type": "code",
      "execution_count": 2,
      "metadata": {
        "colab": {
          "base_uri": "https://localhost:8080/"
        },
        "id": "QU6BlsR0WBm3",
        "outputId": "3cb76f4d-8be2-4f4b-b999-4fa64624fa3e"
      },
      "outputs": [
        {
          "output_type": "stream",
          "name": "stdout",
          "text": [
            "Example 1 output: 1\n",
            "Example 2 output: 3\n"
          ]
        }
      ],
      "source": [
        "from queue import Queue\n",
        "from collections import defaultdict\n",
        "\n",
        "\n",
        "class Node:\n",
        "    def __init__(self, value, left=None, right=None):\n",
        "        self.value = value\n",
        "        self.left = left\n",
        "        self.right = right\n",
        "\n",
        "\n",
        "def minimum_level_sum(root):\n",
        "    queue = Queue()\n",
        "    queue.put((root, 0))  # Inserting node to Queue\n",
        "    level_to_sum = defaultdict(int)  # Maps level to its sum\n",
        "\n",
        "    while not queue.empty():  # This loop pulls the data from Queue and increments the total at each level, further it inserts the next node to the Queue to be processed further\n",
        "        node, level = queue.get()\n",
        "        level_to_sum[level] += node.value  # Incrementing the total by node value at each level\n",
        "\n",
        "        if node.left:\n",
        "            queue.put((node.left, level + 1))  # Appending the next node to Queue\n",
        "\n",
        "        if node.right:\n",
        "            queue.put((node.right, level + 1))\n",
        "\n",
        "    return min(level_to_sum, key=level_to_sum.get)\n",
        "\n",
        "\n",
        "# Example\n",
        "root = Node(\n",
        "    value=1,\n",
        "    left=Node(value=-2),\n",
        "    right=Node(value=-3, left=Node(4), right=Node(-5))\n",
        ")\n",
        "print(f'Example 1 output: {minimum_level_sum(root)}')\n",
        "\n",
        "root = Node(\n",
        "    value=1,\n",
        "    left=Node(value=2, left=Node(4), right=Node(5, left=Node(-1))),\n",
        "    right=Node(value=3, right=Node(6, left=Node(-7), right=Node(-8)))\n",
        ")\n",
        "print(f'Example 2 output: {minimum_level_sum(root)}')\n"
      ]
    },
    {
      "cell_type": "markdown",
      "source": [
        "The complexity of this function is O(N),\n",
        "and works both with positive or negative values.\n",
        "It works by doing a breadth first search and\n",
        "keeping track of the sum in each level."
      ],
      "metadata": {
        "id": "RC3gdxzbWsr3"
      }
    }
  ]
}