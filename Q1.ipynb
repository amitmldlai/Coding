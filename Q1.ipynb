{
  "nbformat": 4,
  "nbformat_minor": 0,
  "metadata": {
    "colab": {
      "provenance": [],
      "collapsed_sections": [],
      "authorship_tag": "ABX9TyMrnqyJJ72dkttazebIOG3k",
      "include_colab_link": true
    },
    "kernelspec": {
      "name": "python3",
      "display_name": "Python 3"
    },
    "language_info": {
      "name": "python"
    }
  },
  "cells": [
    {
      "cell_type": "markdown",
      "metadata": {
        "id": "view-in-github",
        "colab_type": "text"
      },
      "source": [
        "<a href=\"https://colab.research.google.com/github/amitmldlai/Coding/blob/main/Q1.ipynb\" target=\"_parent\"><img src=\"https://colab.research.google.com/assets/colab-badge.svg\" alt=\"Open In Colab\"/></a>"
      ]
    },
    {
      "cell_type": "markdown",
      "source": [
        "Write a function that takes in a number, string, list, or dictionary and returns its JSON encoding. It should also handle nulls.\n",
        "\n",
        "For example, given the following input:\n",
        "\n",
        "`[None, 123, [\"a\", \"b\"], {\"c\":\"d\"}]`\n",
        "\n",
        "\n",
        "You should return the following, as a string:\n",
        "\n",
        "`'[null, 123, [\"a\", \"b\"], {\"c\": \"d\"}]'`\n"
      ],
      "metadata": {
        "id": "zGPpaWt0SuSh"
      }
    },
    {
      "cell_type": "code",
      "execution_count": 32,
      "metadata": {
        "id": "sttW-C_gGfXZ"
      },
      "outputs": [],
      "source": [
        "def json_encode(obj):\n",
        "    if obj is None:\n",
        "        return 'null'\n",
        "    if isinstance(obj, bool):\n",
        "      return str(obj).lower()   \n",
        "    if isinstance(obj, str):\n",
        "        return '\"' + obj + '\"'\n",
        "    if isinstance(obj, int):\n",
        "        return str(obj)\n",
        "    if isinstance(obj, list):\n",
        "        s = ', '.join([json_encode(val) for val in obj])  # recursion to encode each element\n",
        "        return '[' + s + ']'\n",
        "    if isinstance(obj, dict):\n",
        "        if len(obj) == 0:\n",
        "            return '{}'\n",
        "        jsonified = []\n",
        "        for key, val in obj.items():\n",
        "            jsonified.append(json_encode(key) + ': ' + json_encode(val))  # recursion to encode each element\n",
        "\n",
        "        s = ', '.join(jsonified)\n",
        "        return '{' + s + '}'\n",
        "    raise Exception('Unsupported object.')"
      ]
    },
    {
      "cell_type": "code",
      "source": [
        "json_encode([None, 123, [\"a\", \"b\"], {\"c\":\"d\"}])"
      ],
      "metadata": {
        "colab": {
          "base_uri": "https://localhost:8080/",
          "height": 36
        },
        "id": "uG-CpfiuLZ_u",
        "outputId": "2c917c1f-b6d5-4680-9990-3f1b11f0052f"
      },
      "execution_count": 33,
      "outputs": [
        {
          "output_type": "execute_result",
          "data": {
            "text/plain": [
              "'[null, 123, [\"a\", \"b\"], {\"c\": \"d\"}]'"
            ],
            "application/vnd.google.colaboratory.intrinsic+json": {
              "type": "string"
            }
          },
          "metadata": {},
          "execution_count": 33
        }
      ]
    },
    {
      "cell_type": "markdown",
      "source": [
        "Comapring the output with json.dumps: "
      ],
      "metadata": {
        "id": "5fRse4MgrJI6"
      }
    },
    {
      "cell_type": "code",
      "source": [
        "json_encode([None, 'huef', 123, [\"a\", \"b\"], {\"c\":[1, 2, 3, 4, 'e', False]}])"
      ],
      "metadata": {
        "colab": {
          "base_uri": "https://localhost:8080/",
          "height": 36
        },
        "id": "eigGeTwYoVmh",
        "outputId": "bbab51b5-5aab-462c-85d3-ae1d06ce53b2"
      },
      "execution_count": 34,
      "outputs": [
        {
          "output_type": "execute_result",
          "data": {
            "text/plain": [
              "'[null, \"huef\", 123, [\"a\", \"b\"], {\"c\": [1, 2, 3, 4, \"e\", false]}]'"
            ],
            "application/vnd.google.colaboratory.intrinsic+json": {
              "type": "string"
            }
          },
          "metadata": {},
          "execution_count": 34
        }
      ]
    },
    {
      "cell_type": "code",
      "source": [
        "import json\n",
        "json.dumps([None, 'huef', 123, [\"a\", \"b\"], {\"c\":[1, 2, 3, 4, 'e', False]}])"
      ],
      "metadata": {
        "colab": {
          "base_uri": "https://localhost:8080/",
          "height": 36
        },
        "id": "ULSAPuaUnQE2",
        "outputId": "f45ffdc5-5a44-4cfc-ff62-12beafe60d2c"
      },
      "execution_count": 30,
      "outputs": [
        {
          "output_type": "execute_result",
          "data": {
            "text/plain": [
              "'[null, \"huef\", 123, [\"a\", \"b\"], {\"c\": [1, 2, 3, 4, \"e\", false]}]'"
            ],
            "application/vnd.google.colaboratory.intrinsic+json": {
              "type": "string"
            }
          },
          "metadata": {},
          "execution_count": 30
        }
      ]
    },
    {
      "cell_type": "markdown",
      "source": [
        "1. It takes O(N) time, where N is no. of elements in the input.\n",
        "2. Space complexity = O(N), N call-stacks will be envoked in case of list, dictionary."
      ],
      "metadata": {
        "id": "HNnEyIm3iZrs"
      }
    }
  ]
}