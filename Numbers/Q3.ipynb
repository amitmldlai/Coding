{
  "nbformat": 4,
  "nbformat_minor": 0,
  "metadata": {
    "colab": {
      "provenance": [],
      "collapsed_sections": [],
      "authorship_tag": "ABX9TyPGmJFJQ2ravrCX1yfaUfEQ",
      "include_colab_link": true
    },
    "kernelspec": {
      "name": "python3",
      "display_name": "Python 3"
    },
    "language_info": {
      "name": "python"
    }
  },
  "cells": [
    {
      "cell_type": "markdown",
      "metadata": {
        "id": "view-in-github",
        "colab_type": "text"
      },
      "source": [
        "<a href=\"https://colab.research.google.com/github/amitmldlai/Coding/blob/main/Numbers/Q3.ipynb\" target=\"_parent\"><img src=\"https://colab.research.google.com/assets/colab-badge.svg\" alt=\"Open In Colab\"/></a>"
      ]
    },
    {
      "cell_type": "markdown",
      "source": [
        "Given an even number (greater than 2), return two prime numbers whose sum will be equal to the given number.\n",
        "\n",
        "A solution will always exist. See Goldbach’s conjecture.\n",
        "\n",
        "\n",
        "```\n",
        "Example:\n",
        "\n",
        "Input: 4\n",
        "Output: 2 + 2 = 4\n",
        "\n",
        "If there are more than one solution possible, return the lexicographically smaller solution.\n",
        "\n",
        "If [a, b] is one solution with a <= b, and [c, d] is another solution with c <= d, then [a, b] < [c, d]\n",
        "```\n"
      ],
      "metadata": {
        "id": "369m10H1y94d"
      }
    },
    {
      "cell_type": "code",
      "source": [
        "def primesum(n):\n",
        "  for i in range(2, n):\n",
        "    if check_prime(i) and check_prime(n - i):\n",
        "      return i, n - i\n",
        "\n",
        "def check_prime(n):\n",
        "  if n < 2:\n",
        "    return False\n",
        "  for i in range(2, int(n**0.5) + 1):\n",
        "    if n % i == 0:\n",
        "      return False\n",
        "  return True"
      ],
      "metadata": {
        "id": "wgOnTJ_1AQbQ"
      },
      "execution_count": 10,
      "outputs": []
    },
    {
      "cell_type": "code",
      "source": [
        "primesum(10)"
      ],
      "metadata": {
        "colab": {
          "base_uri": "https://localhost:8080/"
        },
        "id": "uiDj_Tjgycnn",
        "outputId": "bf77b534-20c3-4f4c-f009-979f60f81bbc"
      },
      "execution_count": 11,
      "outputs": [
        {
          "output_type": "execute_result",
          "data": {
            "text/plain": [
              "(3, 7)"
            ]
          },
          "metadata": {},
          "execution_count": 11
        }
      ]
    },
    {
      "cell_type": "code",
      "source": [
        "primesum(12)"
      ],
      "metadata": {
        "colab": {
          "base_uri": "https://localhost:8080/"
        },
        "id": "m1k0xKIJ0yS1",
        "outputId": "b29d8f3e-321c-4f64-bfe4-a469d68af6d6"
      },
      "execution_count": 13,
      "outputs": [
        {
          "output_type": "execute_result",
          "data": {
            "text/plain": [
              "(5, 7)"
            ]
          },
          "metadata": {},
          "execution_count": 13
        }
      ]
    },
    {
      "cell_type": "code",
      "source": [
        "primesum(24)"
      ],
      "metadata": {
        "colab": {
          "base_uri": "https://localhost:8080/"
        },
        "id": "p9y0r4fX030a",
        "outputId": "d0a69d03-8c9a-4f65-a340-79fef82c9662"
      },
      "execution_count": 16,
      "outputs": [
        {
          "output_type": "execute_result",
          "data": {
            "text/plain": [
              "(5, 19)"
            ]
          },
          "metadata": {},
          "execution_count": 16
        }
      ]
    },
    {
      "cell_type": "code",
      "source": [
        "primesum(23)"
      ],
      "metadata": {
        "id": "CXDOY68v05qy"
      },
      "execution_count": 18,
      "outputs": []
    }
  ]
}