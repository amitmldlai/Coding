{
  "nbformat": 4,
  "nbformat_minor": 0,
  "metadata": {
    "colab": {
      "provenance": [],
      "collapsed_sections": [],
      "authorship_tag": "ABX9TyOrcYf7Q+eXCgkzCeffWV6Z",
      "include_colab_link": true
    },
    "kernelspec": {
      "name": "python3",
      "display_name": "Python 3"
    },
    "language_info": {
      "name": "python"
    }
  },
  "cells": [
    {
      "cell_type": "markdown",
      "metadata": {
        "id": "view-in-github",
        "colab_type": "text"
      },
      "source": [
        "<a href=\"https://colab.research.google.com/github/amitmldlai/Coding/blob/main/Numbers/Q2.ipynb\" target=\"_parent\"><img src=\"https://colab.research.google.com/assets/colab-badge.svg\" alt=\"Open In Colab\"/></a>"
      ]
    },
    {
      "cell_type": "markdown",
      "source": [
        "A number is considered perfect if its digits sum up to exactly 10.\n",
        "\n",
        "Given a positive integer n, return the n-th perfect number.\n",
        "\n",
        "For example, given 1, you should return 19. Given 2, you should return 28.\n",
        "\n"
      ],
      "metadata": {
        "id": "ElwkXkhqLTSK"
      }
    },
    {
      "cell_type": "code",
      "execution_count": 15,
      "metadata": {
        "id": "wpZVAMGuLSwO"
      },
      "outputs": [],
      "source": [
        "def digit_sum(num):\n",
        "  sum = 0\n",
        "  while num > 0:\n",
        "    sum += num%10\n",
        "    num //= 10 \n",
        "  if sum == 10:\n",
        "    return True  \n",
        "  else:\n",
        "    return False  "
      ]
    },
    {
      "cell_type": "code",
      "source": [
        "def perfect(n):\n",
        "  count, num = 0, 1\n",
        "  while count!=n:\n",
        "    perfect = digit_sum(num)\n",
        "    num += 1\n",
        "    if perfect:\n",
        "      count +=1\n",
        "  return num-1    "
      ],
      "metadata": {
        "id": "iQLZwJwMRuMI"
      },
      "execution_count": 42,
      "outputs": []
    },
    {
      "cell_type": "code",
      "source": [
        "perfect(2)"
      ],
      "metadata": {
        "colab": {
          "base_uri": "https://localhost:8080/"
        },
        "id": "gK5N-wyCR8bv",
        "outputId": "b3058b15-ffbf-42fd-bd8f-5e1073479b15"
      },
      "execution_count": 49,
      "outputs": [
        {
          "output_type": "execute_result",
          "data": {
            "text/plain": [
              "28"
            ]
          },
          "metadata": {},
          "execution_count": 49
        }
      ]
    },
    {
      "cell_type": "code",
      "source": [
        "perfect(20000)"
      ],
      "metadata": {
        "colab": {
          "base_uri": "https://localhost:8080/"
        },
        "id": "y0xmi-g87PG-",
        "outputId": "dfc4f1f4-6d7d-485c-9324-1d8ef19a6c0c"
      },
      "execution_count": 51,
      "outputs": [
        {
          "output_type": "execute_result",
          "data": {
            "text/plain": [
              "100032103"
            ]
          },
          "metadata": {},
          "execution_count": 51
        }
      ]
    },
    {
      "cell_type": "code",
      "source": [
        "perfect(2000)"
      ],
      "metadata": {
        "colab": {
          "base_uri": "https://localhost:8080/"
        },
        "id": "ADhA-f4Q8K5o",
        "outputId": "fcb501a3-b159-4e52-bda3-be2deedd0e4b"
      },
      "execution_count": 50,
      "outputs": [
        {
          "output_type": "execute_result",
          "data": {
            "text/plain": [
              "220033"
            ]
          },
          "metadata": {},
          "execution_count": 50
        }
      ]
    },
    {
      "cell_type": "markdown",
      "source": [
        "\n",
        "\n",
        "* Time complexity = O(N), space compelxity = O(N)\n",
        "\n",
        "\n"
      ],
      "metadata": {
        "id": "EkOLub76UtEF"
      }
    }
  ]
}