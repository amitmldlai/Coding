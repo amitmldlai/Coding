{
  "nbformat": 4,
  "nbformat_minor": 0,
  "metadata": {
    "colab": {
      "provenance": [],
      "collapsed_sections": [],
      "authorship_tag": "ABX9TyN/0P7nB61YQcHnOK9FdiGq",
      "include_colab_link": true
    },
    "kernelspec": {
      "name": "python3",
      "display_name": "Python 3"
    },
    "language_info": {
      "name": "python"
    }
  },
  "cells": [
    {
      "cell_type": "markdown",
      "metadata": {
        "id": "view-in-github",
        "colab_type": "text"
      },
      "source": [
        "<a href=\"https://colab.research.google.com/github/amitmldlai/Coding/blob/main/Q1.ipynb\" target=\"_parent\"><img src=\"https://colab.research.google.com/assets/colab-badge.svg\" alt=\"Open In Colab\"/></a>"
      ]
    },
    {
      "cell_type": "markdown",
      "source": [
        "Write a function that takes a natural number as input and returns the number of digits the input has.\n",
        "\n",
        "Constraint: Don't use any loops.\n"
      ],
      "metadata": {
        "id": "zGPpaWt0SuSh"
      }
    },
    {
      "cell_type": "code",
      "execution_count": 4,
      "metadata": {
        "id": "sttW-C_gGfXZ"
      },
      "outputs": [],
      "source": [
        "def number_of_digits(num, count=0):\n",
        "    if num<0 or type(num)!=int:\n",
        "      return 'Please enter a natural number'\n",
        "    if num==0:\n",
        "      return count\n",
        "    elif num>0:\n",
        "      num //= 10\n",
        "      count += 1\n",
        "      count = number_of_digits(num, count=count)\n",
        "      return count  "
      ]
    },
    {
      "cell_type": "code",
      "source": [
        "number_of_digits(130)"
      ],
      "metadata": {
        "colab": {
          "base_uri": "https://localhost:8080/"
        },
        "id": "uG-CpfiuLZ_u",
        "outputId": "0db59bdc-b9ce-46cf-f9e1-4f964aa11f26"
      },
      "execution_count": 5,
      "outputs": [
        {
          "output_type": "execute_result",
          "data": {
            "text/plain": [
              "3"
            ]
          },
          "metadata": {},
          "execution_count": 5
        }
      ]
    },
    {
      "cell_type": "code",
      "source": [
        "number_of_digits(0)"
      ],
      "metadata": {
        "colab": {
          "base_uri": "https://localhost:8080/"
        },
        "id": "j9SDolmnaqkQ",
        "outputId": "b9db83fe-1bf3-46dc-9499-3a21e576df49"
      },
      "execution_count": 6,
      "outputs": [
        {
          "output_type": "execute_result",
          "data": {
            "text/plain": [
              "0"
            ]
          },
          "metadata": {},
          "execution_count": 6
        }
      ]
    },
    {
      "cell_type": "code",
      "source": [
        "number_of_digits(564331)"
      ],
      "metadata": {
        "colab": {
          "base_uri": "https://localhost:8080/"
        },
        "id": "pn-eapn2cWgj",
        "outputId": "b75dd98c-b416-4543-ebe7-0e6f5b739375"
      },
      "execution_count": 7,
      "outputs": [
        {
          "output_type": "execute_result",
          "data": {
            "text/plain": [
              "6"
            ]
          },
          "metadata": {},
          "execution_count": 7
        }
      ]
    },
    {
      "cell_type": "code",
      "source": [
        "number_of_digits(456.67)"
      ],
      "metadata": {
        "colab": {
          "base_uri": "https://localhost:8080/",
          "height": 36
        },
        "id": "O17Q8QiTeyjk",
        "outputId": "3380cd68-7827-4775-b4d5-0ff9aa873205"
      },
      "execution_count": 8,
      "outputs": [
        {
          "output_type": "execute_result",
          "data": {
            "text/plain": [
              "'Please enter a natural number'"
            ],
            "application/vnd.google.colaboratory.intrinsic+json": {
              "type": "string"
            }
          },
          "metadata": {},
          "execution_count": 8
        }
      ]
    },
    {
      "cell_type": "code",
      "source": [
        "number_of_digits(-3445)"
      ],
      "metadata": {
        "colab": {
          "base_uri": "https://localhost:8080/",
          "height": 36
        },
        "id": "M6edvNQEe71b",
        "outputId": "be9c2daa-7990-47e8-c9d3-373ee5d94fec"
      },
      "execution_count": 9,
      "outputs": [
        {
          "output_type": "execute_result",
          "data": {
            "text/plain": [
              "'Please enter a natural number'"
            ],
            "application/vnd.google.colaboratory.intrinsic+json": {
              "type": "string"
            }
          },
          "metadata": {},
          "execution_count": 9
        }
      ]
    },
    {
      "cell_type": "markdown",
      "source": [
        "1. It takes O(N) time, where N is no. of digits in the given input number.\n",
        "2. Space complexity = O(N), since the code is written using recursive approach and the same function is called N times, N call-stacks will be envoked. "
      ],
      "metadata": {
        "id": "HNnEyIm3iZrs"
      }
    }
  ]
}